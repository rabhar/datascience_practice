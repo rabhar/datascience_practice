{
 "cells": [
  {
   "cell_type": "code",
   "execution_count": 31,
   "metadata": {},
   "outputs": [],
   "source": [
    "import matplotlib.pyplot as plt\n"
   ]
  },
  {
   "cell_type": "code",
   "execution_count": 32,
   "metadata": {},
   "outputs": [],
   "source": [
    "%matplotlib inline"
   ]
  },
  {
   "cell_type": "code",
   "execution_count": 121,
   "metadata": {},
   "outputs": [],
   "source": [
    "data = [12,46,78,12,24,52,14,8,67,17,34,45,62,12,32,53]"
   ]
  },
  {
   "cell_type": "markdown",
   "metadata": {},
   "source": [
    "## Mean \n",
    "- Average = sum(data) / len(n)\n"
   ]
  },
  {
   "cell_type": "code",
   "execution_count": 6,
   "metadata": {},
   "outputs": [
    {
     "data": {
      "text/plain": [
       "35.5"
      ]
     },
     "execution_count": 6,
     "metadata": {},
     "output_type": "execute_result"
    }
   ],
   "source": [
    "avg = sum(data)/len(data)\n",
    "avg"
   ]
  },
  {
   "cell_type": "markdown",
   "metadata": {},
   "source": [
    "## Median\n",
    "- if length is odd - Center element after sorting \n",
    "- if length is even - mean of center two elements"
   ]
  },
  {
   "cell_type": "code",
   "execution_count": 19,
   "metadata": {},
   "outputs": [
    {
     "name": "stdout",
     "output_type": "stream",
     "text": [
      "[8, 12, 12, 12, 14, 17, 24, 32, 34, 45, 46, 52, 53, 62, 67, 78]\n",
      "lenth is even :  16\n",
      "Median :  33 Mean of 32 and 34\n"
     ]
    }
   ],
   "source": [
    "t = data\n",
    "t.sort()\n",
    "length = len(t)\n",
    "print(t)\n",
    "print(\"lenth is even : \", length)\n",
    "median = (t[7]+t[8])//2\n",
    "print(\"Median : \", median, \"Mean of 32 and 34\")\n"
   ]
  },
  {
   "cell_type": "markdown",
   "metadata": {},
   "source": [
    "## Mode \n",
    "- most repeated element\n",
    "\n",
    "- 12 is repeated thrice in the dataset"
   ]
  },
  {
   "cell_type": "markdown",
   "metadata": {},
   "source": [
    "## Percentile\n",
    "- Formula\n",
    "- index = (percentile/100) * N\n",
    "\n",
    "Example\n",
    "Get 25 percentile in the dataset \n",
    "\n",
    "index = 25/100 * 16\n",
    "\n",
    "data[index]\n",
    "\n",
    "\n"
   ]
  },
  {
   "cell_type": "code",
   "execution_count": 27,
   "metadata": {},
   "outputs": [
    {
     "name": "stdout",
     "output_type": "stream",
     "text": [
      "percentile 25  , raw_index :  4.8 , Index :  5 , Value :  17\n"
     ]
    }
   ],
   "source": [
    "index_raw = (30/100)*len(data)\n",
    "index = round(index_raw)\n",
    "value = data[index]\n",
    "print(\"percentile 25 \", \", raw_index : \", index_raw,\", Index : \", index, \", Value : \", value)"
   ]
  },
  {
   "cell_type": "markdown",
   "metadata": {},
   "source": [
    "## Box and whisker plot | Quartile\n",
    "\n",
    "- Boxplot splits dataset in to 4 quartiles, 25%, 50%, 75% and 100%.\n",
    "- The range between 75% and 25% is known as Inter Quartile Region(IQR)\n",
    "- The data points above and below 1.5 * IQR are known as outliers.\n",
    "\n"
   ]
  },
  {
   "cell_type": "code",
   "execution_count": 34,
   "metadata": {},
   "outputs": [
    {
     "data": {
      "text/plain": [
       "{'whiskers': [<matplotlib.lines.Line2D at 0x19e5d00d648>,\n",
       "  <matplotlib.lines.Line2D at 0x19e5d0007c8>],\n",
       " 'caps': [<matplotlib.lines.Line2D at 0x19e5cc3aac8>,\n",
       "  <matplotlib.lines.Line2D at 0x19e5cc32308>],\n",
       " 'boxes': [<matplotlib.lines.Line2D at 0x19e5d00d9c8>],\n",
       " 'medians': [<matplotlib.lines.Line2D at 0x19e5cc25508>],\n",
       " 'fliers': [<matplotlib.lines.Line2D at 0x19e5cc25208>],\n",
       " 'means': []}"
      ]
     },
     "execution_count": 34,
     "metadata": {},
     "output_type": "execute_result"
    },
    {
     "data": {
      "image/png": "[encoded data removed]",
      "text/plain": [
       "<Figure size 432x288 with 1 Axes>"
      ]
     },
     "metadata": {
      "needs_background": "light"
     },
     "output_type": "display_data"
    }
   ],
   "source": [
    "plt.boxplot(data, vert=False)"
   ]
  },
  {
   "cell_type": "markdown",
   "metadata": {},
   "source": [
    "## Lets add some outliers and see"
   ]
  },
  {
   "cell_type": "code",
   "execution_count": 78,
   "metadata": {},
   "outputs": [],
   "source": [
    "t = data.copy()\n",
    "t.extend([-80,180,140])"
   ]
  },
  {
   "cell_type": "code",
   "execution_count": 79,
   "metadata": {},
   "outputs": [
    {
     "data": {
      "text/plain": [
       "{'whiskers': [<matplotlib.lines.Line2D at 0x19e5ed54908>,\n",
       "  <matplotlib.lines.Line2D at 0x19e5ed54f88>],\n",
       " 'caps': [<matplotlib.lines.Line2D at 0x19e5ed596c8>,\n",
       "  <matplotlib.lines.Line2D at 0x19e5ed59dc8>],\n",
       " 'boxes': [<matplotlib.lines.Line2D at 0x19e5ed4ff88>],\n",
       " 'medians': [<matplotlib.lines.Line2D at 0x19e5ed59f08>],\n",
       " 'fliers': [<matplotlib.lines.Line2D at 0x19e5ed5fc08>],\n",
       " 'means': []}"
      ]
     },
     "execution_count": 79,
     "metadata": {},
     "output_type": "execute_result"
    },
    {
     "data": {
      "image/png": "[encoded data removed]",
      "text/plain": [
       "<Figure size 432x288 with 1 Axes>"
      ]
     },
     "metadata": {
      "needs_background": "light"
     },
     "output_type": "display_data"
    }
   ],
   "source": [
    "plt.boxplot(t, vert=False)"
   ]
  },
  {
   "cell_type": "markdown",
   "metadata": {},
   "source": [
    "## Variance \n",
    "- The average of the squared differences from the Mean.\n",
    "- v^2 = sum( (data - mean)^2 ) / n"
   ]
  },
  {
   "cell_type": "code",
   "execution_count": 122,
   "metadata": {},
   "outputs": [],
   "source": [
    "t = data.copy()\n",
    "t.extend([80,60,50,40,30,20,10,15,25,35,45,55,65])\n",
    "data = t"
   ]
  },
  {
   "cell_type": "code",
   "execution_count": 123,
   "metadata": {},
   "outputs": [
    {
     "data": {
      "text/plain": [
       "37.86206896551724"
      ]
     },
     "execution_count": 123,
     "metadata": {},
     "output_type": "execute_result"
    }
   ],
   "source": [
    "mean = sum(data)/len(data)\n",
    "mean"
   ]
  },
  {
   "cell_type": "code",
   "execution_count": 124,
   "metadata": {},
   "outputs": [
    {
     "data": {
      "text/plain": [
       "<matplotlib.lines.Line2D at 0x19e6087bcc8>"
      ]
     },
     "execution_count": 124,
     "metadata": {},
     "output_type": "execute_result"
    },
    {
     "data": {
      "image/png": "[encoded data removed]",
      "text/plain": [
       "<Figure size 432x288 with 1 Axes>"
      ]
     },
     "metadata": {
      "needs_background": "light"
     },
     "output_type": "display_data"
    }
   ],
   "source": [
    "plt.scatter(data, len(data) * [1])\n",
    "plt.axvline(mean)"
   ]
  },
  {
   "cell_type": "code",
   "execution_count": 125,
   "metadata": {},
   "outputs": [
    {
     "data": {
      "text/plain": [
       "451.2223543400713"
      ]
     },
     "execution_count": 125,
     "metadata": {},
     "output_type": "execute_result"
    }
   ],
   "source": [
    "total = sum([ (i - mean)**2 for i in data ]) / len(data)\n",
    "total"
   ]
  },
  {
   "cell_type": "markdown",
   "metadata": {},
   "source": [
    "## The Standard Deviation is a measure of how spread out numbers are.\n",
    "It is the square root of the Variance.\n"
   ]
  },
  {
   "cell_type": "code",
   "execution_count": 126,
   "metadata": {},
   "outputs": [
    {
     "data": {
      "text/plain": [
       "21.24199506496674"
      ]
     },
     "execution_count": 126,
     "metadata": {},
     "output_type": "execute_result"
    }
   ],
   "source": [
    "sd = (total)**(1/2)\n",
    "sd"
   ]
  },
  {
   "cell_type": "code",
   "execution_count": 127,
   "metadata": {},
   "outputs": [
    {
     "data": {
      "text/plain": [
       "<matplotlib.lines.Line2D at 0x19e608f2c48>"
      ]
     },
     "execution_count": 127,
     "metadata": {},
     "output_type": "execute_result"
    },
    {
     "data": {
      "image/png": "[encoded data removed]",
      "text/plain": [
       "<Figure size 432x288 with 1 Axes>"
      ]
     },
     "metadata": {
      "needs_background": "light"
     },
     "output_type": "display_data"
    }
   ],
   "source": [
    "\n",
    "plt.scatter(data, len(data) * [1])\n",
    "\n",
    "plt.axvline(mean)\n",
    "plt.axvline(mean - sd, c = \"r\")\n",
    "plt.axvline(mean + sd, c = \"r\")\n",
    "plt.axvline(mean - (2*sd), c = \"g\")\n",
    "plt.axvline(mean + (2*sd), c = \"g\")"
   ]
  },
  {
   "cell_type": "markdown",
   "metadata": {},
   "source": [
    "## Covariance \n",
    "- Covariance is a statistical tool that is used to determine the relationship between the movement of two variables.\n",
    "- covariance = sum((x-xmean) * ( y - ymean)) / n\n",
    "- If ρ(X,Y)=0, we say that X and Y are uncorrelated.\n",
    "- If ρ(X,Y)>0, we say that X and Y are positively correlated.\n",
    "- If ρ(X,Y)<0, we say that X and Y are negatively correlated.\n",
    "- Higher or lower number doesn't signifies anything because if scale increases the value also increases"
   ]
  },
  {
   "cell_type": "code",
   "execution_count": 152,
   "metadata": {},
   "outputs": [],
   "source": [
    "def covariance(x,y):\n",
    "    mean_x = sum(x)/len(x)\n",
    "    mean_y = sum(y)/len(y)\n",
    "    n = min(len(x), len(y))\n",
    "    total = 0\n",
    "    for i in range(n):\n",
    "        total += (x[i] - mean_x) * (y[i] - mean_y)\n",
    "    return total / n\n",
    "    "
   ]
  },
  {
   "cell_type": "code",
   "execution_count": 144,
   "metadata": {},
   "outputs": [],
   "source": [
    "x = [1,2,3,4,5]\n",
    "y_zero = [3,3,3,3,3]\n",
    "y_positive = [1,2,3,4,5]\n",
    "y_negative = [5,4,3,2,1]"
   ]
  },
  {
   "cell_type": "code",
   "execution_count": 156,
   "metadata": {},
   "outputs": [
    {
     "name": "stdout",
     "output_type": "stream",
     "text": [
      "covariance :  0.0\n"
     ]
    },
    {
     "data": {
      "text/plain": [
       "[<matplotlib.lines.Line2D at 0x19e610bda48>]"
      ]
     },
     "execution_count": 156,
     "metadata": {},
     "output_type": "execute_result"
    },
    {
     "data": {
      "image/png": "[encoded data removed]",
      "text/plain": [
       "<Figure size 432x288 with 1 Axes>"
      ]
     },
     "metadata": {
      "needs_background": "light"
     },
     "output_type": "display_data"
    }
   ],
   "source": [
    "print(\"covariance : \", covariance(x,y_zero))\n",
    "plt.plot(x,y_zero)"
   ]
  },
  {
   "cell_type": "code",
   "execution_count": 154,
   "metadata": {},
   "outputs": [
    {
     "name": "stdout",
     "output_type": "stream",
     "text": [
      "+ve covariance\n",
      "covariance :  2.0\n"
     ]
    },
    {
     "data": {
      "text/plain": [
       "[<matplotlib.lines.Line2D at 0x19e6174e148>]"
      ]
     },
     "execution_count": 154,
     "metadata": {},
     "output_type": "execute_result"
    },
    {
     "data": {
      "image/png": "[encoded data removed]",
      "text/plain": [
       "<Figure size 432x288 with 1 Axes>"
      ]
     },
     "metadata": {
      "needs_background": "light"
     },
     "output_type": "display_data"
    }
   ],
   "source": [
    "print(\"+ve covariance\")\n",
    "print(\"covariance : \", covariance(x,y_positive))\n",
    "plt.plot(x,y_positive)"
   ]
  },
  {
   "cell_type": "code",
   "execution_count": 155,
   "metadata": {},
   "outputs": [
    {
     "name": "stdout",
     "output_type": "stream",
     "text": [
      "-ve covariance\n",
      "covariance :  -2.0\n"
     ]
    },
    {
     "data": {
      "text/plain": [
       "[<matplotlib.lines.Line2D at 0x19e617f2388>]"
      ]
     },
     "execution_count": 155,
     "metadata": {},
     "output_type": "execute_result"
    },
    {
     "data": {
      "image/png": "[encoded data removed]",
      "text/plain": [
       "<Figure size 432x288 with 1 Axes>"
      ]
     },
     "metadata": {
      "needs_background": "light"
     },
     "output_type": "display_data"
    }
   ],
   "source": [
    "print(\"-ve covariance\")\n",
    "print(\"covariance : \", covariance(x,y_negative))\n",
    "plt.plot(x,y_negative)"
   ]
  },
  {
   "cell_type": "markdown",
   "metadata": {},
   "source": [
    "## Correlation\n",
    "- When two sets of data are strongly linked together we say they have a High Correlation.\n",
    "- Covariance depends on scale. In order to make it independent. we devide it by standard deviation\n",
    "- correlation = covariance(x,y) / standardDeviation of (x,y)\n",
    "- postivie when both increases and negative when both decreases.\n",
    "- zero when no coreelation exists.\n",
    "- magnitude of value defines how both the data are strongly related"
   ]
  },
  {
   "cell_type": "code",
   "execution_count": 161,
   "metadata": {},
   "outputs": [],
   "source": [
    "def mean(arr):\n",
    "    return sum(arr)/len(arr)\n",
    "    \n",
    "\n",
    "def standard_deviation(arr):\n",
    "    m = mean(arr)\n",
    "    return (sum( [(m - i)**2 for i in arr] ) / len(arr)) ** (1/2)\n",
    "\n",
    "def correlation(x,y):\n",
    "    cv = covariance(x,y)\n",
    "    return cv / (standard_deviation(x) * standard_deviation(y))"
   ]
  },
  {
   "cell_type": "code",
   "execution_count": 163,
   "metadata": {},
   "outputs": [
    {
     "data": {
      "text/plain": [
       "0.9999999999999998"
      ]
     },
     "execution_count": 163,
     "metadata": {},
     "output_type": "execute_result"
    }
   ],
   "source": [
    "correlation(x,y_positive)"
   ]
  },
  {
   "cell_type": "code",
   "execution_count": 164,
   "metadata": {},
   "outputs": [
    {
     "data": {
      "text/plain": [
       "-0.9999999999999998"
      ]
     },
     "execution_count": 164,
     "metadata": {},
     "output_type": "execute_result"
    }
   ],
   "source": [
    "correlation(x,y_negative)"
   ]
  },
  {
   "cell_type": "code",
   "execution_count": 185,
   "metadata": {},
   "outputs": [],
   "source": [
    "x = [1,2,3,4,5,6,7,8,9,10]\n",
    "y1 = [9,12,25,36,42,55,61,79,91,102]\n",
    "y2 = [2,22,18,49,67,62,90,101,120,140]\n",
    "y3 = [2,30,14,52,22,90,66,44,120,99]"
   ]
  },
  {
   "cell_type": "code",
   "execution_count": 188,
   "metadata": {},
   "outputs": [
    {
     "name": "stdout",
     "output_type": "stream",
     "text": [
      "[9, 12, 25, 36, 42, 55, 61, 79, 91, 102]\n",
      "correlation :  0.994192057763551\n"
     ]
    },
    {
     "data": {
      "text/plain": [
       "<matplotlib.collections.PathCollection at 0x19e62a3ce88>"
      ]
     },
     "execution_count": 188,
     "metadata": {},
     "output_type": "execute_result"
    },
    {
     "data": {
      "image/png": "[encoded data removed]",
      "text/plain": [
       "<Figure size 432x288 with 1 Axes>"
      ]
     },
     "metadata": {
      "needs_background": "light"
     },
     "output_type": "display_data"
    }
   ],
   "source": [
    "print(y1)\n",
    "print(\"correlation : \", correlation(x,y1))\n",
    "plt.scatter(x,y1)"
   ]
  },
  {
   "cell_type": "code",
   "execution_count": 189,
   "metadata": {},
   "outputs": [
    {
     "name": "stdout",
     "output_type": "stream",
     "text": [
      "[2, 22, 18, 49, 67, 62, 90, 101, 120, 140]\n",
      "correlation :  0.9874415012821398\n"
     ]
    },
    {
     "data": {
      "text/plain": [
       "<matplotlib.collections.PathCollection at 0x19e62aa2048>"
      ]
     },
     "execution_count": 189,
     "metadata": {},
     "output_type": "execute_result"
    },
    {
     "data": {
      "image/png": "[encoded data removed]",
      "text/plain": [
       "<Figure size 432x288 with 1 Axes>"
      ]
     },
     "metadata": {
      "needs_background": "light"
     },
     "output_type": "display_data"
    }
   ],
   "source": [
    "print(y2)\n",
    "print(\"correlation : \", correlation(x,y2))\n",
    "plt.scatter(x,y2)"
   ]
  },
  {
   "cell_type": "code",
   "execution_count": 190,
   "metadata": {},
   "outputs": [
    {
     "name": "stdout",
     "output_type": "stream",
     "text": [
      "[2, 30, 14, 52, 22, 90, 66, 44, 120, 99]\n",
      "correlation :  0.825280387327048\n"
     ]
    },
    {
     "data": {
      "text/plain": [
       "<matplotlib.collections.PathCollection at 0x19e62b01808>"
      ]
     },
     "execution_count": 190,
     "metadata": {},
     "output_type": "execute_result"
    },
    {
     "data": {
      "image/png": "[encoded data removed]",
      "text/plain": [
       "<Figure size 432x288 with 1 Axes>"
      ]
     },
     "metadata": {
      "needs_background": "light"
     },
     "output_type": "display_data"
    }
   ],
   "source": [
    "print(y3)\n",
    "print(\"correlation : \", correlation(x,y3))\n",
    "plt.scatter(x,y3)"
   ]
  },
  {
   "cell_type": "code",
   "execution_count": null,
   "metadata": {},
   "outputs": [],
   "source": []
  }
 ],
 "metadata": {
  "kernelspec": {
   "display_name": "Python 3",
   "language": "python",
   "name": "python3"
  },
  "language_info": {
   "codemirror_mode": {
    "name": "ipython",
    "version": 3
   },
   "file_extension": ".py",
   "mimetype": "text/x-python",
   "name": "python",
   "nbconvert_exporter": "python",
   "pygments_lexer": "ipython3",
   "version": "3.7.4"
  }
 },
 "nbformat": 4,
 "nbformat_minor": 2
}
